{
 "cells": [
  {
   "cell_type": "markdown",
   "metadata": {},
   "source": [
    "# Word Class"
   ]
  },
  {
   "cell_type": "markdown",
   "metadata": {},
   "source": [
    "stores information of individual cells as needed(Credit: Sherwin)"
   ]
  },
  {
   "cell_type": "code",
   "execution_count": 11,
   "metadata": {},
   "outputs": [],
   "source": [
    "class Word:\n",
    "    def __init__(self):\n",
    "        self.index = 0\n",
    "        self.form = \"\"\n",
    "        self.lemma = \"\"\n",
    "        self.upos = \"\"\n",
    "        self.xpos = \"\"\n",
    "        self.feats = []\n",
    "        self.head = -1\n",
    "        self.deprel = \"\"\n",
    "        self.deps = \"\"\n",
    "        self.misc = []\n",
    "    def printInfo(self):\n",
    "        print(\"Index: \" + str(self.index))\n",
    "        print(\"Word Form: \" + self.form)\n",
    "        print(\"Lemma: \" + self.lemma)\n",
    "        print(\"Universal Part-of-Speech-Tag: \" + self.upos)\n",
    "        print(\"Language-Specific Part-of-Speech-Tag: \" + self.xpos)\n",
    "        #print(\"Features: \" + ''.join(self.feats))\n",
    "        print(\"Features: \", end = '')\n",
    "        print(self.feats)\n",
    "        print(\"Head: \" + str(self.head))\n",
    "        print(\"Universal Dependency Relation to Head: \" + self.deprel)\n",
    "        print(\"Enhanced Dependency Graph: \" + self.deps)\n",
    "        #print(\"Misc.: \" + ''.join(self.misc))\n",
    "        print(\"Misc.: \", end = '')\n",
    "        print(self.misc)\n",
    "        print()"
   ]
  },
  {
   "cell_type": "markdown",
   "metadata": {},
   "source": [
    "# Head Tree"
   ]
  },
  {
   "cell_type": "markdown",
   "metadata": {},
   "source": [
    "stores the sentence as a tree rooted at index 0\n",
    "contractions are ommited and stored as separate words"
   ]
  },
  {
   "cell_type": "code",
   "execution_count": 12,
   "metadata": {},
   "outputs": [],
   "source": [
    "class HeadTree:\n",
    "    def __init__(self,allWords):\n",
    "        self.allWords = allWords\n",
    "        \n",
    "        #key stores the index of the head of a word\n",
    "        #the highest word is stored as itself\n",
    "        self.key = []\n",
    "        \n",
    "        #creates the keys\n",
    "        for word in allWords:\n",
    "            if(word.head == 0):\n",
    "                self.key.append(word.index - 1)\n",
    "            else:\n",
    "                self.key.append(word.head - 1)\n",
    "                \n",
    "                \n",
    "    #finds the head of the word at index\n",
    "    #finds the nth head of the word or the root if n > number of layers\n",
    "    #the direct head of a word is found at n = 1\n",
    "    #returns index of the nth head\n",
    "    def findHead(self, index, layer):\n",
    "        if(layer <= 1):\n",
    "            return self.key[index]\n",
    "        if(self.key[index] == index):\n",
    "            return index\n",
    "        return self.findHead(self.key[index],layer - 1)\n",
    "    \n",
    "    def print(self):\n",
    "        print(self.key)\n",
    "        "
   ]
  },
  {
   "cell_type": "markdown",
   "metadata": {},
   "source": [
    "# Head Type Dictionary"
   ]
  },
  {
   "cell_type": "markdown",
   "metadata": {},
   "source": [
    "uses the head tree to tally the relations between the dependent and head"
   ]
  },
  {
   "cell_type": "code",
   "execution_count": null,
   "metadata": {},
   "outputs": [],
   "source": [
    "class HeadTypeDict:\n",
    "    def __init__(self):\n",
    "        self."
   ]
  },
  {
   "cell_type": "markdown",
   "metadata": {},
   "source": [
    "# Dependent Tree"
   ]
  },
  {
   "cell_type": "markdown",
   "metadata": {},
   "source": [
    "list of dependents for each word\n",
    "dictionary is used for convenience and speed"
   ]
  },
  {
   "cell_type": "code",
   "execution_count": 13,
   "metadata": {},
   "outputs": [],
   "source": [
    "class DepTree:\n",
    "    def __init__(self,hTree):\n",
    "        \n",
    "        #key is a list of list of the dependents for each word\n",
    "        self.key = {}\n",
    "        \n",
    "        size = len(hTree.key)\n",
    "        index = 0 \n",
    "        while index < size:\n",
    "            if hTree.key[index] not in self.key:\n",
    "                self.key[hTree.key[index]] = [index]\n",
    "            else:\n",
    "                self.key[hTree.key[index]].append(index)\n",
    "            index+=1\n",
    "                \n",
    "                \n",
    "    \n",
    "    def print(self):\n",
    "        print(self.key)"
   ]
  },
  {
   "cell_type": "markdown",
   "metadata": {},
   "source": [
    "# Lemma Dictionary\n",
    "\n",
    "\n",
    "stores frequencies of each lemma"
   ]
  },
  {
   "cell_type": "code",
   "execution_count": 14,
   "metadata": {},
   "outputs": [],
   "source": [
    "class LemmaFreq:\n",
    "    \n",
    "    def __init__(self, sentence):\n",
    "        self.dictionary = {}\n",
    "        \n",
    "        #count word frequency\n",
    "        print(\"HelloWorld\")\n",
    "        size = len(sentence)\n",
    "        index = 0\n",
    "        while index < size:\n",
    "            word = sentence[index]\n",
    "            if word.lemma not in self.dictionary:\n",
    "                self.dictionary[word.lemma] = 1\n",
    "            else:\n",
    "                self.dictionary[word.lemma] += 1\n",
    "            index += 1\n",
    "                \n",
    "    def print(self):\n",
    "        print(self.dictionary)\n",
    "        "
   ]
  },
  {
   "cell_type": "markdown",
   "metadata": {},
   "source": [
    "# Read File\n"
   ]
  },
  {
   "cell_type": "markdown",
   "metadata": {},
   "source": [
    "reads the file(credit: Sherwin) \n",
    "ignores contractions\n",
    "only stores relevant info instead of the whole thing"
   ]
  },
  {
   "cell_type": "code",
   "execution_count": 15,
   "metadata": {},
   "outputs": [
    {
     "name": "stdout",
     "output_type": "stream",
     "text": [
      "HelloWorld\n",
      "[]\n",
      "{}\n",
      "{}\n",
      "HelloWorld\n",
      "[1, 1, 1, 5, 5, 2, 5, 8, 6, 10, 11, 5, 11, 15, 15, 11, 15, 19, 19, 15, 19, 1]\n",
      "{'él': 1, 'hacer': 2, 'seguir': 1, 'el': 3, 'nuevo': 1, 'corriente': 1, 'aprendido': 1, 'en': 2, 'apulia': 1, 'sobre': 1, 'todo': 1, 'hincapié': 1, 'forma': 1, 'clásico': 1, 'de': 1, 'hércules': 1, 'desnudo': 1, '.': 1}\n",
      "{1: [0, 1, 2, 21], 5: [3, 4, 6, 11], 2: [5], 8: [7], 6: [8], 10: [9], 11: [10, 12, 15], 15: [13, 14, 16, 19], 19: [17, 18, 20]}\n",
      "HelloWorld\n",
      "[1, 3, 3, 3, 5, 3, 8, 8, 5, 10, 3, 10, 15, 15, 15, 10, 18, 18, 15, 21, 21, 10, 23, 21, 27, 27, 27, 10, 29, 27, 29, 32, 29, 3]\n",
      "{'más': 1, 'tarde': 1, 'él': 3, 'cambiar': 1, 'el': 4, 'dinámica': 1, 'de': 3, 'su': 1, 'presentación': 1, ',': 1, 'transmitiéndo': 1, 'dos': 1, 'último': 1, 'semana': 1, 'año': 1, 'con': 1, '10': 2, 'video': 1, 'por': 1, 'día': 1, 'en': 1, 'mismo': 1, 'horario': 1, '+': 1, 'pedido': 1, ';': 1}\n"
     ]
    }
   ],
   "source": [
    "sentence = []\n",
    "with open(\"//Users//Wilson//Documents//Universal Dependencies 2.4//ud-treebanks-v2.4//UD_Spanish-GSD//es_gsd-ud-dev.conllu copy\", \"r\", encoding=\"utf-8\") as file:\n",
    "    fileLines = file.readlines()\n",
    "for line in fileLines:\n",
    "    line = line.strip()\n",
    "    if (line.find(\"# sent_id\") >= 0):\n",
    "        #print(sentence)\n",
    "        tempHTree = HeadTree(sentence)\n",
    "        #print(sentence)\n",
    "        tempLemma = LemmaFreq(sentence)\n",
    "        #print(sentence)\n",
    "        tempDTree = DepTree(tempHTree)\n",
    "        tempHTree.print()\n",
    "        tempLemma.print()\n",
    "        tempDTree.print()\n",
    "        sentence = []\n",
    "    elif(len(line) > 0 and line[0] != '#'):\n",
    "        word = Word()\n",
    "        tokens = line.split()\n",
    "        if (tokens[0].find('-') < 0):\n",
    "            word.index = int(tokens[0])    \n",
    "            word.form = tokens[1]\n",
    "            word.lemma = tokens[2]\n",
    "            word.upos = tokens[3]\n",
    "            word.xpos = tokens[4]\n",
    "            word.feats = tokens[5].split('|')\n",
    "            if (tokens[6] == '_'):\n",
    "                word.head = -1\n",
    "            else:\n",
    "                word.head = int(tokens[6])\n",
    "            word.deprel = tokens[7]\n",
    "            word.deps = tokens[8]\n",
    "            word.misc = tokens[9].split('|')\n",
    "            sentence.append(word)\n",
    "tempTree = HeadTree(sentence)\n",
    "tempLemma = LemmaFreq(sentence)\n",
    "tempTree.print()\n",
    "tempLemma.print()\n",
    "            \n",
    "            "
   ]
  },
  {
   "cell_type": "code",
   "execution_count": null,
   "metadata": {},
   "outputs": [],
   "source": []
  },
  {
   "cell_type": "code",
   "execution_count": null,
   "metadata": {},
   "outputs": [],
   "source": []
  },
  {
   "cell_type": "code",
   "execution_count": null,
   "metadata": {},
   "outputs": [],
   "source": []
  }
 ],
 "metadata": {
  "kernelspec": {
   "display_name": "Python 3",
   "language": "python",
   "name": "python3"
  },
  "language_info": {
   "codemirror_mode": {
    "name": "ipython",
    "version": 3
   },
   "file_extension": ".py",
   "mimetype": "text/x-python",
   "name": "python",
   "nbconvert_exporter": "python",
   "pygments_lexer": "ipython3",
   "version": "3.7.3"
  }
 },
 "nbformat": 4,
 "nbformat_minor": 2
}
